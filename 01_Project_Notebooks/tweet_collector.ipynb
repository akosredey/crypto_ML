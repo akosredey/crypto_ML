{
 "cells": [
  {
   "cell_type": "markdown",
   "id": "a5b61252-be61-43bc-b241-739bff004f32",
   "metadata": {},
   "source": [
    "# Collecting Twitter Sentiment Data"
   ]
  },
  {
   "cell_type": "markdown",
   "id": "b9c07ca4-d4df-4de5-89e9-8370c92fd80d",
   "metadata": {},
   "source": [
    "### Import Libraries & Setup Working Directories"
   ]
  },
  {
   "cell_type": "markdown",
   "id": "acd74514-6eed-4a40-97c2-4002b60d1879",
   "metadata": {},
   "source": [
    "<p><font size=\"+2\" color=\"red\"> ! Runs for cca. 10-15 mins ! ... </font></p>"
   ]
  },
  {
   "cell_type": "code",
   "execution_count": 1,
   "id": "7e6d0ff7-ed09-418e-a32e-0620c59bf764",
   "metadata": {},
   "outputs": [],
   "source": [
    "import pandas as pd\n",
    "import os\n",
    "import pathlib\n",
    "from scipy import stats\n",
    "from textblob import TextBlob #Textblob is built on NLTK and pattern (e.g. for the sentiment analysis)\n",
    "from textblob.sentiments import NaiveBayesAnalyzer"
   ]
  },
  {
   "cell_type": "code",
   "execution_count": 2,
   "id": "66899824-a7aa-4862-857e-6aae9cd40292",
   "metadata": {},
   "outputs": [
    {
     "name": "stdout",
     "output_type": "stream",
     "text": [
      "C:\\Users\\akosr\\CAS_DAENG\\Modul_02\\crypto_project_ML\\00_Data\\04_Twitter_Data\\\n",
      "C:\\Users\\akosr\\CAS_DAENG\\Modul_02\\crypto_project_ML\\00_Data\\\n"
     ]
    }
   ],
   "source": [
    "# Setup the project directory\n",
    "workdir = pathlib.Path().absolute()\n",
    "project_dir = workdir.parent\n",
    "int_data_path = f\"{project_dir}\\\\00_Data\\\\04_Twitter_Data\\\\\"\n",
    "ext_data_path = f\"{project_dir}\\\\00_Data\\\\\"\n",
    "print(int_data_path)\n",
    "print(ext_data_path)"
   ]
  },
  {
   "cell_type": "markdown",
   "id": "de312ff3-f73c-44d2-b8bd-63ce5b29054d",
   "metadata": {},
   "source": [
    "### Define transformer functions"
   ]
  },
  {
   "cell_type": "code",
   "execution_count": 3,
   "id": "4011dd79-81f1-4bab-a12e-face0cb565a1",
   "metadata": {},
   "outputs": [],
   "source": [
    "def apply_blob(sentence):\n",
    "    temp = TextBlob(sentence).sentiment[0]\n",
    "    if temp == 0.0:\n",
    "        return 0.0 # Neutral\n",
    "    elif temp >= 0.0:\n",
    "        return 1.0 # Positive\n",
    "    else:\n",
    "        return -1.0 # Negative"
   ]
  },
  {
   "cell_type": "code",
   "execution_count": 4,
   "id": "c7738fec-db3e-400f-bebc-864d32f6f720",
   "metadata": {},
   "outputs": [],
   "source": [
    "def col_encode(col):\n",
    "    if col>0:\n",
    "        return 1.0\n",
    "    elif col<0:\n",
    "        return -1.0\n",
    "    else:\n",
    "        return 0.0"
   ]
  },
  {
   "cell_type": "code",
   "execution_count": 5,
   "id": "35c59a33-feef-4266-ad91-7840b509e32a",
   "metadata": {},
   "outputs": [],
   "source": [
    "def col_encode_v2(col):\n",
    "    if col>0.1:\n",
    "        return 1.0\n",
    "    elif col<0:\n",
    "        return -1.0\n",
    "    else:\n",
    "        return 0.0"
   ]
  },
  {
   "cell_type": "markdown",
   "id": "7953701e-2c7a-4605-a723-aaa1120cb545",
   "metadata": {},
   "source": [
    "## Elon Musk Tweets between 2014 - 2021"
   ]
  },
  {
   "cell_type": "markdown",
   "id": "20c4b76d-5141-4236-8637-5203644dee95",
   "metadata": {},
   "source": [
    "### Collect Data"
   ]
  },
  {
   "cell_type": "code",
   "execution_count": 6,
   "id": "32ed4d42-e9f3-4f27-b64e-c53966c51877",
   "metadata": {},
   "outputs": [],
   "source": [
    "df_elon = pd.read_excel(int_data_path+'Elon_Tweets_2014_2021.xlsx', sheet_name=\"bitcoin_elonuser\")"
   ]
  },
  {
   "cell_type": "code",
   "execution_count": 7,
   "id": "58e62f58-8982-42dc-8e73-852ae0ad77fa",
   "metadata": {},
   "outputs": [
    {
     "data": {
      "text/plain": [
       "(12264, 7)"
      ]
     },
     "execution_count": 7,
     "metadata": {},
     "output_type": "execute_result"
    }
   ],
   "source": [
    "df_elon.shape"
   ]
  },
  {
   "cell_type": "code",
   "execution_count": 8,
   "id": "fd5722ef-0186-4d20-b139-e6deb76649c1",
   "metadata": {},
   "outputs": [
    {
     "data": {
      "text/html": [
       "<div>\n",
       "<style scoped>\n",
       "    .dataframe tbody tr th:only-of-type {\n",
       "        vertical-align: middle;\n",
       "    }\n",
       "\n",
       "    .dataframe tbody tr th {\n",
       "        vertical-align: top;\n",
       "    }\n",
       "\n",
       "    .dataframe thead th {\n",
       "        text-align: right;\n",
       "    }\n",
       "</style>\n",
       "<table border=\"1\" class=\"dataframe\">\n",
       "  <thead>\n",
       "    <tr style=\"text-align: right;\">\n",
       "      <th></th>\n",
       "      <th>id</th>\n",
       "      <th>user_id</th>\n",
       "      <th>username</th>\n",
       "      <th>tweet</th>\n",
       "      <th>language</th>\n",
       "      <th>likes_count</th>\n",
       "      <th>Datetime</th>\n",
       "    </tr>\n",
       "  </thead>\n",
       "  <tbody>\n",
       "    <tr>\n",
       "      <th>0</th>\n",
       "      <td>1406450046472622080</td>\n",
       "      <td>44196397</td>\n",
       "      <td>elonmusk</td>\n",
       "      <td>@teslaownersSV Yeah</td>\n",
       "      <td>en</td>\n",
       "      <td>13033</td>\n",
       "      <td>2021-06-20 05:13:16</td>\n",
       "    </tr>\n",
       "    <tr>\n",
       "      <th>1</th>\n",
       "      <td>1406073484300591104</td>\n",
       "      <td>44196397</td>\n",
       "      <td>elonmusk</td>\n",
       "      <td>@weddleandsons @Tesla Nice work</td>\n",
       "      <td>en</td>\n",
       "      <td>16615</td>\n",
       "      <td>2021-06-19 04:16:56</td>\n",
       "    </tr>\n",
       "    <tr>\n",
       "      <th>2</th>\n",
       "      <td>1406071203333251072</td>\n",
       "      <td>44196397</td>\n",
       "      <td>elonmusk</td>\n",
       "      <td>@RationalEtienne 🤣🤣</td>\n",
       "      <td>und</td>\n",
       "      <td>14705</td>\n",
       "      <td>2021-06-19 04:07:53</td>\n",
       "    </tr>\n",
       "    <tr>\n",
       "      <th>3</th>\n",
       "      <td>1406030454499594240</td>\n",
       "      <td>44196397</td>\n",
       "      <td>elonmusk</td>\n",
       "      <td>@udonandtempura @Tesla Haha pretty much</td>\n",
       "      <td>en</td>\n",
       "      <td>3714</td>\n",
       "      <td>2021-06-19 01:25:57</td>\n",
       "    </tr>\n",
       "    <tr>\n",
       "      <th>4</th>\n",
       "      <td>1406030294621167616</td>\n",
       "      <td>44196397</td>\n",
       "      <td>elonmusk</td>\n",
       "      <td>@Erdayastronaut This is epic. Very impressive ...</td>\n",
       "      <td>en</td>\n",
       "      <td>16149</td>\n",
       "      <td>2021-06-19 01:25:19</td>\n",
       "    </tr>\n",
       "  </tbody>\n",
       "</table>\n",
       "</div>"
      ],
      "text/plain": [
       "                    id   user_id  username  \\\n",
       "0  1406450046472622080  44196397  elonmusk   \n",
       "1  1406073484300591104  44196397  elonmusk   \n",
       "2  1406071203333251072  44196397  elonmusk   \n",
       "3  1406030454499594240  44196397  elonmusk   \n",
       "4  1406030294621167616  44196397  elonmusk   \n",
       "\n",
       "                                               tweet language  likes_count  \\\n",
       "0                                @teslaownersSV Yeah       en        13033   \n",
       "1                    @weddleandsons @Tesla Nice work       en        16615   \n",
       "2                                @RationalEtienne 🤣🤣      und        14705   \n",
       "3            @udonandtempura @Tesla Haha pretty much       en         3714   \n",
       "4  @Erdayastronaut This is epic. Very impressive ...       en        16149   \n",
       "\n",
       "             Datetime  \n",
       "0 2021-06-20 05:13:16  \n",
       "1 2021-06-19 04:16:56  \n",
       "2 2021-06-19 04:07:53  \n",
       "3 2021-06-19 01:25:57  \n",
       "4 2021-06-19 01:25:19  "
      ]
     },
     "execution_count": 8,
     "metadata": {},
     "output_type": "execute_result"
    }
   ],
   "source": [
    "df_elon.head()"
   ]
  },
  {
   "cell_type": "markdown",
   "id": "6e25b809-09a3-4e54-bef1-05b86d05d66b",
   "metadata": {},
   "source": [
    "### Derive sentiment using TextBlob"
   ]
  },
  {
   "cell_type": "code",
   "execution_count": 9,
   "id": "78341a2a-8653-47e3-8245-7a451395cf76",
   "metadata": {},
   "outputs": [],
   "source": [
    "df_elon['polarity_score'] = df_elon['tweet'].apply(lambda tweet: TextBlob(tweet).sentiment.polarity)"
   ]
  },
  {
   "cell_type": "code",
   "execution_count": 10,
   "id": "5744df04-8acc-40af-a765-07b63a2ee68b",
   "metadata": {},
   "outputs": [],
   "source": [
    "df_elon['subjectivity_score'] = df_elon['tweet'].apply(lambda tweet: TextBlob(tweet).sentiment.subjectivity)"
   ]
  },
  {
   "cell_type": "code",
   "execution_count": 11,
   "id": "e41d0b40-851c-4ded-b052-2314be8e0a31",
   "metadata": {},
   "outputs": [],
   "source": [
    "df_elon['sentiment_score'] = df_elon['tweet'].apply(lambda tweet: apply_blob(tweet))"
   ]
  },
  {
   "cell_type": "raw",
   "id": "9d0860c6-dccb-4218-8ffd-2520abf61458",
   "metadata": {},
   "source": [
    "# Naive Bayes Analyzer sentiment ---> RUNS FOREVER NOT USED!\n",
    "df_elon['sentiment_naive_pos'] = df_elon['tweet'].apply(lambda tweet: TextBlob(tweet, analyzer=NaiveBayesAnalyzer()).sentiment.p_pos)\n",
    "df_elon['sentiment_naive_neg'] = df_elon['tweet'].apply(lambda tweet: TextBlob(tweet, analyzer=NaiveBayesAnalyzer()).sentiment.p_neg)"
   ]
  },
  {
   "cell_type": "code",
   "execution_count": 12,
   "id": "c701495e-14fd-416c-a707-289bcb44221a",
   "metadata": {},
   "outputs": [
    {
     "data": {
      "text/html": [
       "<div>\n",
       "<style scoped>\n",
       "    .dataframe tbody tr th:only-of-type {\n",
       "        vertical-align: middle;\n",
       "    }\n",
       "\n",
       "    .dataframe tbody tr th {\n",
       "        vertical-align: top;\n",
       "    }\n",
       "\n",
       "    .dataframe thead th {\n",
       "        text-align: right;\n",
       "    }\n",
       "</style>\n",
       "<table border=\"1\" class=\"dataframe\">\n",
       "  <thead>\n",
       "    <tr style=\"text-align: right;\">\n",
       "      <th></th>\n",
       "      <th>id</th>\n",
       "      <th>user_id</th>\n",
       "      <th>username</th>\n",
       "      <th>tweet</th>\n",
       "      <th>language</th>\n",
       "      <th>likes_count</th>\n",
       "      <th>Datetime</th>\n",
       "      <th>polarity_score</th>\n",
       "      <th>subjectivity_score</th>\n",
       "      <th>sentiment_score</th>\n",
       "    </tr>\n",
       "  </thead>\n",
       "  <tbody>\n",
       "    <tr>\n",
       "      <th>12259</th>\n",
       "      <td>427371574451507200</td>\n",
       "      <td>44196397</td>\n",
       "      <td>elonmusk</td>\n",
       "      <td>Tesla Supercharger network now energized from ...</td>\n",
       "      <td>en</td>\n",
       "      <td>648</td>\n",
       "      <td>2014-01-26 10:24:58</td>\n",
       "      <td>0.170455</td>\n",
       "      <td>0.454545</td>\n",
       "      <td>1.0</td>\n",
       "    </tr>\n",
       "    <tr>\n",
       "      <th>12260</th>\n",
       "      <td>426454433916940288</td>\n",
       "      <td>44196397</td>\n",
       "      <td>elonmusk</td>\n",
       "      <td>Tesla policy is to charge the same price (+ ta...</td>\n",
       "      <td>en</td>\n",
       "      <td>532</td>\n",
       "      <td>2014-01-23 21:40:34</td>\n",
       "      <td>0.000000</td>\n",
       "      <td>0.125000</td>\n",
       "      <td>0.0</td>\n",
       "    </tr>\n",
       "    <tr>\n",
       "      <th>12261</th>\n",
       "      <td>420353814579802112</td>\n",
       "      <td>44196397</td>\n",
       "      <td>elonmusk</td>\n",
       "      <td>Rough cut of Falcon 9 Thaicom flight  http://t...</td>\n",
       "      <td>en</td>\n",
       "      <td>286</td>\n",
       "      <td>2014-01-07 01:38:53</td>\n",
       "      <td>-0.100000</td>\n",
       "      <td>0.400000</td>\n",
       "      <td>-1.0</td>\n",
       "    </tr>\n",
       "    <tr>\n",
       "      <th>12262</th>\n",
       "      <td>420330200186880000</td>\n",
       "      <td>44196397</td>\n",
       "      <td>elonmusk</td>\n",
       "      <td>@westcoastbill Thanks Bill! Sure is a great st...</td>\n",
       "      <td>en</td>\n",
       "      <td>14</td>\n",
       "      <td>2014-01-07 00:05:03</td>\n",
       "      <td>0.512500</td>\n",
       "      <td>0.709722</td>\n",
       "      <td>1.0</td>\n",
       "    </tr>\n",
       "    <tr>\n",
       "      <th>12263</th>\n",
       "      <td>420269918005628928</td>\n",
       "      <td>44196397</td>\n",
       "      <td>elonmusk</td>\n",
       "      <td>Preparing to launch a Thaicom satellite to geo...</td>\n",
       "      <td>en</td>\n",
       "      <td>421</td>\n",
       "      <td>2014-01-06 20:05:31</td>\n",
       "      <td>0.000000</td>\n",
       "      <td>0.000000</td>\n",
       "      <td>0.0</td>\n",
       "    </tr>\n",
       "  </tbody>\n",
       "</table>\n",
       "</div>"
      ],
      "text/plain": [
       "                       id   user_id  username  \\\n",
       "12259  427371574451507200  44196397  elonmusk   \n",
       "12260  426454433916940288  44196397  elonmusk   \n",
       "12261  420353814579802112  44196397  elonmusk   \n",
       "12262  420330200186880000  44196397  elonmusk   \n",
       "12263  420269918005628928  44196397  elonmusk   \n",
       "\n",
       "                                                   tweet language  \\\n",
       "12259  Tesla Supercharger network now energized from ...       en   \n",
       "12260  Tesla policy is to charge the same price (+ ta...       en   \n",
       "12261  Rough cut of Falcon 9 Thaicom flight  http://t...       en   \n",
       "12262  @westcoastbill Thanks Bill! Sure is a great st...       en   \n",
       "12263  Preparing to launch a Thaicom satellite to geo...       en   \n",
       "\n",
       "       likes_count            Datetime  polarity_score  subjectivity_score  \\\n",
       "12259          648 2014-01-26 10:24:58        0.170455            0.454545   \n",
       "12260          532 2014-01-23 21:40:34        0.000000            0.125000   \n",
       "12261          286 2014-01-07 01:38:53       -0.100000            0.400000   \n",
       "12262           14 2014-01-07 00:05:03        0.512500            0.709722   \n",
       "12263          421 2014-01-06 20:05:31        0.000000            0.000000   \n",
       "\n",
       "       sentiment_score  \n",
       "12259              1.0  \n",
       "12260              0.0  \n",
       "12261             -1.0  \n",
       "12262              1.0  \n",
       "12263              0.0  "
      ]
     },
     "execution_count": 12,
     "metadata": {},
     "output_type": "execute_result"
    }
   ],
   "source": [
    "df_elon.tail()"
   ]
  },
  {
   "cell_type": "code",
   "execution_count": 13,
   "id": "53215732-2520-4850-9f92-00dd3740ed76",
   "metadata": {},
   "outputs": [
    {
     "name": "stdout",
     "output_type": "stream",
     "text": [
      "<class 'pandas.core.frame.DataFrame'>\n",
      "RangeIndex: 12264 entries, 0 to 12263\n",
      "Data columns (total 10 columns):\n",
      " #   Column              Non-Null Count  Dtype         \n",
      "---  ------              --------------  -----         \n",
      " 0   id                  12264 non-null  int64         \n",
      " 1   user_id             12264 non-null  int64         \n",
      " 2   username            12264 non-null  object        \n",
      " 3   tweet               12264 non-null  object        \n",
      " 4   language            12264 non-null  object        \n",
      " 5   likes_count         12264 non-null  int64         \n",
      " 6   Datetime            12264 non-null  datetime64[ns]\n",
      " 7   polarity_score      12264 non-null  float64       \n",
      " 8   subjectivity_score  12264 non-null  float64       \n",
      " 9   sentiment_score     12264 non-null  float64       \n",
      "dtypes: datetime64[ns](1), float64(3), int64(3), object(3)\n",
      "memory usage: 958.2+ KB\n"
     ]
    }
   ],
   "source": [
    "df_elon.info()"
   ]
  },
  {
   "cell_type": "code",
   "execution_count": 14,
   "id": "8f776d4d-49fe-43a8-97a5-a7b979a5996b",
   "metadata": {},
   "outputs": [
    {
     "data": {
      "text/plain": [
       "id                    0\n",
       "user_id               0\n",
       "username              0\n",
       "tweet                 0\n",
       "language              0\n",
       "likes_count           0\n",
       "Datetime              0\n",
       "polarity_score        0\n",
       "subjectivity_score    0\n",
       "sentiment_score       0\n",
       "dtype: int64"
      ]
     },
     "execution_count": 14,
     "metadata": {},
     "output_type": "execute_result"
    }
   ],
   "source": [
    "df_elon.isna().sum()"
   ]
  },
  {
   "cell_type": "markdown",
   "id": "63d347c1-f2da-4b9b-aeea-651c34da217f",
   "metadata": {},
   "source": [
    "### Clean the Data and prepare for merge"
   ]
  },
  {
   "cell_type": "markdown",
   "id": "7c4a17a4-a169-46a5-8d68-30c504421bfd",
   "metadata": {},
   "source": [
    "#### Transforming to Daily Scores, using mean"
   ]
  },
  {
   "cell_type": "code",
   "execution_count": 15,
   "id": "336cc057-80ac-43df-ab4c-f5c4b4a3d403",
   "metadata": {},
   "outputs": [],
   "source": [
    "df_elon_daily = df_elon.loc[:, ['Datetime', 'polarity_score']]"
   ]
  },
  {
   "cell_type": "code",
   "execution_count": 16,
   "id": "c2f7cb83-18d3-4067-a08a-177c4a15729e",
   "metadata": {},
   "outputs": [],
   "source": [
    "df_elon_daily['Date'] = pd.to_datetime(df_elon_daily['Datetime']).dt.date"
   ]
  },
  {
   "cell_type": "code",
   "execution_count": 17,
   "id": "f0c9cc7f-185e-4f4f-b811-16409ad715ba",
   "metadata": {},
   "outputs": [],
   "source": [
    "df_elon_daily = df_elon_daily.groupby('Date').agg({'polarity_score': 'median'})"
   ]
  },
  {
   "cell_type": "code",
   "execution_count": 18,
   "id": "2372bd28-575a-4ab2-8cc0-eb36904bffca",
   "metadata": {},
   "outputs": [],
   "source": [
    "# Encoding to 1-0-(-1)\n",
    "df_elon_daily['sentiment_score'] = df_elon_daily['polarity_score'].apply(lambda col: col_encode(col))"
   ]
  },
  {
   "cell_type": "code",
   "execution_count": 19,
   "id": "b823ddc5-b4c9-4dc4-906b-f81f5585b4d5",
   "metadata": {},
   "outputs": [
    {
     "data": {
      "text/plain": [
       " 1.0    871\n",
       " 0.0    814\n",
       "-1.0    112\n",
       "Name: sentiment_score, dtype: int64"
      ]
     },
     "execution_count": 19,
     "metadata": {},
     "output_type": "execute_result"
    }
   ],
   "source": [
    "df_elon_daily['sentiment_score'].value_counts()"
   ]
  },
  {
   "cell_type": "code",
   "execution_count": 20,
   "id": "774d6c86-e6a3-4355-9279-ef72ff804e2f",
   "metadata": {},
   "outputs": [],
   "source": [
    "df_elon_daily.reset_index(inplace=True)"
   ]
  },
  {
   "cell_type": "code",
   "execution_count": 21,
   "id": "eb3205a5-1610-4926-b584-a2ea4a26cada",
   "metadata": {},
   "outputs": [
    {
     "data": {
      "text/plain": [
       "(1797, 3)"
      ]
     },
     "execution_count": 21,
     "metadata": {},
     "output_type": "execute_result"
    }
   ],
   "source": [
    "df_elon_daily.shape"
   ]
  },
  {
   "cell_type": "markdown",
   "id": "fde85728-0bc1-4416-b3db-9d49277145d0",
   "metadata": {},
   "source": [
    "#### Transforming to daily scores, using mode"
   ]
  },
  {
   "cell_type": "code",
   "execution_count": 22,
   "id": "4f0761d1-8b8f-4f4a-88d6-9cdbbbee5ffa",
   "metadata": {},
   "outputs": [],
   "source": [
    "df_elon_daily_mod = df_elon.loc[:, ['Datetime', 'polarity_score']]"
   ]
  },
  {
   "cell_type": "code",
   "execution_count": 23,
   "id": "4a3a1356-d50f-4a97-97a6-47889538d89e",
   "metadata": {},
   "outputs": [],
   "source": [
    "df_elon_daily_mod['Date'] = pd.to_datetime(df_elon_daily_mod['Datetime']).dt.date"
   ]
  },
  {
   "cell_type": "code",
   "execution_count": 24,
   "id": "308b5e71-e836-46fa-9f34-557e10e23b6c",
   "metadata": {},
   "outputs": [],
   "source": [
    "df_elon_daily_mod = pd.DataFrame(df_elon_daily_mod.groupby('Date').agg(pd.Series.mode))"
   ]
  },
  {
   "cell_type": "code",
   "execution_count": 25,
   "id": "bafd6a11-4527-40d4-9cfe-199d073cbc45",
   "metadata": {},
   "outputs": [],
   "source": [
    "df_elon_daily_mod = df_elon_daily_mod.explode('polarity_score')"
   ]
  },
  {
   "cell_type": "code",
   "execution_count": 26,
   "id": "d262b123-10e6-4a81-85df-2f2d5307a63c",
   "metadata": {},
   "outputs": [],
   "source": [
    "# Encoding to 1-0-(-1)\n",
    "df_elon_daily_mod['sentiment_score'] = df_elon_daily_mod['polarity_score'].apply(lambda col: col_encode(col))"
   ]
  },
  {
   "cell_type": "code",
   "execution_count": 27,
   "id": "ee788e1c-74c7-4386-9ec7-cd49207edc8a",
   "metadata": {},
   "outputs": [
    {
     "data": {
      "text/plain": [
       " 0.0    1376\n",
       " 1.0    1129\n",
       "-1.0     310\n",
       "Name: sentiment_score, dtype: int64"
      ]
     },
     "execution_count": 27,
     "metadata": {},
     "output_type": "execute_result"
    }
   ],
   "source": [
    "df_elon_daily_mod['sentiment_score'].value_counts()"
   ]
  },
  {
   "cell_type": "code",
   "execution_count": 28,
   "id": "6bbed268-e769-4a0c-890f-db5be316f258",
   "metadata": {},
   "outputs": [
    {
     "data": {
      "text/plain": [
       "(2815, 3)"
      ]
     },
     "execution_count": 28,
     "metadata": {},
     "output_type": "execute_result"
    }
   ],
   "source": [
    "df_elon_daily_mod.shape"
   ]
  },
  {
   "cell_type": "markdown",
   "id": "72159afb-586c-46d8-b393-f171fef4c1f1",
   "metadata": {},
   "source": [
    "### Save to file & check"
   ]
  },
  {
   "cell_type": "code",
   "execution_count": 29,
   "id": "b4fa2150-61fd-44e2-9fb5-69568daa1013",
   "metadata": {},
   "outputs": [],
   "source": [
    "df_elon_daily.to_csv(ext_data_path+'elon_tweet_sentiment.csv', index=False)"
   ]
  },
  {
   "cell_type": "code",
   "execution_count": 30,
   "id": "8a6b9c62-fbd6-4a29-9a6c-c9e733b1a23c",
   "metadata": {},
   "outputs": [],
   "source": [
    "# Load back & check\n",
    "df_elon_check = pd.read_csv(ext_data_path+'elon_tweet_sentiment.csv')"
   ]
  },
  {
   "cell_type": "code",
   "execution_count": 31,
   "id": "89304db1-1d49-4930-bed3-28db6ed84803",
   "metadata": {},
   "outputs": [
    {
     "data": {
      "text/html": [
       "<div>\n",
       "<style scoped>\n",
       "    .dataframe tbody tr th:only-of-type {\n",
       "        vertical-align: middle;\n",
       "    }\n",
       "\n",
       "    .dataframe tbody tr th {\n",
       "        vertical-align: top;\n",
       "    }\n",
       "\n",
       "    .dataframe thead th {\n",
       "        text-align: right;\n",
       "    }\n",
       "</style>\n",
       "<table border=\"1\" class=\"dataframe\">\n",
       "  <thead>\n",
       "    <tr style=\"text-align: right;\">\n",
       "      <th></th>\n",
       "      <th>Date</th>\n",
       "      <th>polarity_score</th>\n",
       "      <th>sentiment_score</th>\n",
       "    </tr>\n",
       "  </thead>\n",
       "  <tbody>\n",
       "    <tr>\n",
       "      <th>0</th>\n",
       "      <td>2014-01-06</td>\n",
       "      <td>0.00000</td>\n",
       "      <td>0.0</td>\n",
       "    </tr>\n",
       "    <tr>\n",
       "      <th>1</th>\n",
       "      <td>2014-01-07</td>\n",
       "      <td>0.20625</td>\n",
       "      <td>1.0</td>\n",
       "    </tr>\n",
       "    <tr>\n",
       "      <th>2</th>\n",
       "      <td>2014-01-23</td>\n",
       "      <td>0.00000</td>\n",
       "      <td>0.0</td>\n",
       "    </tr>\n",
       "    <tr>\n",
       "      <th>3</th>\n",
       "      <td>2014-01-26</td>\n",
       "      <td>0.00000</td>\n",
       "      <td>0.0</td>\n",
       "    </tr>\n",
       "    <tr>\n",
       "      <th>4</th>\n",
       "      <td>2014-01-30</td>\n",
       "      <td>0.00000</td>\n",
       "      <td>0.0</td>\n",
       "    </tr>\n",
       "  </tbody>\n",
       "</table>\n",
       "</div>"
      ],
      "text/plain": [
       "         Date  polarity_score  sentiment_score\n",
       "0  2014-01-06         0.00000              0.0\n",
       "1  2014-01-07         0.20625              1.0\n",
       "2  2014-01-23         0.00000              0.0\n",
       "3  2014-01-26         0.00000              0.0\n",
       "4  2014-01-30         0.00000              0.0"
      ]
     },
     "execution_count": 31,
     "metadata": {},
     "output_type": "execute_result"
    }
   ],
   "source": [
    "df_elon_check.head()"
   ]
  },
  {
   "cell_type": "code",
   "execution_count": 32,
   "id": "f364c601-e7a5-47c0-84bb-8b2987dba0df",
   "metadata": {},
   "outputs": [
    {
     "data": {
      "text/plain": [
       " 1.0    871\n",
       " 0.0    814\n",
       "-1.0    112\n",
       "Name: sentiment_score, dtype: int64"
      ]
     },
     "execution_count": 32,
     "metadata": {},
     "output_type": "execute_result"
    }
   ],
   "source": [
    "df_elon_check['sentiment_score'].value_counts()"
   ]
  },
  {
   "cell_type": "markdown",
   "id": "d0e725bf-703a-4a06-8959-47d58e0c5651",
   "metadata": {},
   "source": [
    "## Bitcoin-related Tweets from verified users between 2014 - 2021"
   ]
  },
  {
   "cell_type": "code",
   "execution_count": 33,
   "id": "56059578-2338-49b9-b0f7-b8650dcf1172",
   "metadata": {},
   "outputs": [],
   "source": [
    "df_bitcoin = pd.read_excel(int_data_path+'Bitcoin_Tweets_2014_2021.xlsx', sheet_name=\"bitcoin_tweets_verified\")"
   ]
  },
  {
   "cell_type": "code",
   "execution_count": 34,
   "id": "21bd4071-6629-47ed-a507-78b81fd00cf4",
   "metadata": {},
   "outputs": [
    {
     "data": {
      "text/html": [
       "<div>\n",
       "<style scoped>\n",
       "    .dataframe tbody tr th:only-of-type {\n",
       "        vertical-align: middle;\n",
       "    }\n",
       "\n",
       "    .dataframe tbody tr th {\n",
       "        vertical-align: top;\n",
       "    }\n",
       "\n",
       "    .dataframe thead th {\n",
       "        text-align: right;\n",
       "    }\n",
       "</style>\n",
       "<table border=\"1\" class=\"dataframe\">\n",
       "  <thead>\n",
       "    <tr style=\"text-align: right;\">\n",
       "      <th></th>\n",
       "      <th>id</th>\n",
       "      <th>user_id</th>\n",
       "      <th>username</th>\n",
       "      <th>tweet</th>\n",
       "      <th>language</th>\n",
       "      <th>likes_count</th>\n",
       "      <th>Datetime</th>\n",
       "    </tr>\n",
       "  </thead>\n",
       "  <tbody>\n",
       "    <tr>\n",
       "      <th>0</th>\n",
       "      <td>1406638837032439808</td>\n",
       "      <td>34713362</td>\n",
       "      <td>business</td>\n",
       "      <td>Bitcoin dropped over the weekend amid a focus ...</td>\n",
       "      <td>en</td>\n",
       "      <td>15</td>\n",
       "      <td>2021-06-20 17:43:27</td>\n",
       "    </tr>\n",
       "    <tr>\n",
       "      <th>1</th>\n",
       "      <td>1406638325595844608</td>\n",
       "      <td>14104994</td>\n",
       "      <td>nskinsella</td>\n",
       "      <td>@SUSY_Sugra ha. right. Bitcoin fixes libertari...</td>\n",
       "      <td>en</td>\n",
       "      <td>0</td>\n",
       "      <td>2021-06-20 17:41:25</td>\n",
       "    </tr>\n",
       "    <tr>\n",
       "      <th>2</th>\n",
       "      <td>1406636435617161216</td>\n",
       "      <td>17673635</td>\n",
       "      <td>livemint</td>\n",
       "      <td>Bitcoin is trading at about half its record hi...</td>\n",
       "      <td>en</td>\n",
       "      <td>5</td>\n",
       "      <td>2021-06-20 17:33:54</td>\n",
       "    </tr>\n",
       "    <tr>\n",
       "      <th>3</th>\n",
       "      <td>1406636226610974720</td>\n",
       "      <td>955744720092835840</td>\n",
       "      <td>wazirxindia</td>\n",
       "      <td>@DINESHC68520388 ^^@WazirXCares</td>\n",
       "      <td>und</td>\n",
       "      <td>0</td>\n",
       "      <td>2021-06-20 17:33:05</td>\n",
       "    </tr>\n",
       "    <tr>\n",
       "      <th>4</th>\n",
       "      <td>1406636184323956736</td>\n",
       "      <td>955744720092835840</td>\n",
       "      <td>wazirxindia</td>\n",
       "      <td>@ImAswinn ^^@WazirXCares</td>\n",
       "      <td>und</td>\n",
       "      <td>0</td>\n",
       "      <td>2021-06-20 17:32:55</td>\n",
       "    </tr>\n",
       "  </tbody>\n",
       "</table>\n",
       "</div>"
      ],
      "text/plain": [
       "                    id             user_id     username  \\\n",
       "0  1406638837032439808            34713362     business   \n",
       "1  1406638325595844608            14104994   nskinsella   \n",
       "2  1406636435617161216            17673635     livemint   \n",
       "3  1406636226610974720  955744720092835840  wazirxindia   \n",
       "4  1406636184323956736  955744720092835840  wazirxindia   \n",
       "\n",
       "                                               tweet language  likes_count  \\\n",
       "0  Bitcoin dropped over the weekend amid a focus ...       en           15   \n",
       "1  @SUSY_Sugra ha. right. Bitcoin fixes libertari...       en            0   \n",
       "2  Bitcoin is trading at about half its record hi...       en            5   \n",
       "3                    @DINESHC68520388 ^^@WazirXCares      und            0   \n",
       "4                           @ImAswinn ^^@WazirXCares      und            0   \n",
       "\n",
       "             Datetime  \n",
       "0 2021-06-20 17:43:27  \n",
       "1 2021-06-20 17:41:25  \n",
       "2 2021-06-20 17:33:54  \n",
       "3 2021-06-20 17:33:05  \n",
       "4 2021-06-20 17:32:55  "
      ]
     },
     "execution_count": 34,
     "metadata": {},
     "output_type": "execute_result"
    }
   ],
   "source": [
    "df_bitcoin.head()"
   ]
  },
  {
   "cell_type": "markdown",
   "id": "7903a7a5-3623-4b7a-805c-a6caa81fd98c",
   "metadata": {},
   "source": [
    "### Derive sentiment using TextBlob"
   ]
  },
  {
   "cell_type": "code",
   "execution_count": 35,
   "id": "58eae372-d13e-4c20-90ac-68d6fffc60d0",
   "metadata": {},
   "outputs": [],
   "source": [
    "df_bitcoin['polarity_score'] = df_bitcoin['tweet'].apply(lambda tweet: TextBlob(tweet).sentiment.polarity)"
   ]
  },
  {
   "cell_type": "code",
   "execution_count": 36,
   "id": "4dee16e3-0d40-43ee-89a8-2d8e7658c8bb",
   "metadata": {},
   "outputs": [],
   "source": [
    "df_bitcoin['subjectivity_score'] = df_bitcoin['tweet'].apply(lambda tweet: TextBlob(tweet).sentiment.subjectivity)"
   ]
  },
  {
   "cell_type": "code",
   "execution_count": 37,
   "id": "86823156-3186-4ef3-8cee-b64cc0c66fd1",
   "metadata": {},
   "outputs": [],
   "source": [
    "df_bitcoin['sentiment_score'] = df_bitcoin['tweet'].apply(lambda tweet: apply_blob(tweet))"
   ]
  },
  {
   "cell_type": "raw",
   "id": "9c1f3540-40f1-4264-808e-dbda70581658",
   "metadata": {},
   "source": [
    "# Naive Bayes Analyzer sentiment  ---> RUNS FOREVER!\n",
    "df_bitcoin['sentiment_naive_pos'] = df_bitcoin['tweet'].apply(lambda tweet: TextBlob(tweet, analyzer=NaiveBayesAnalyzer()).sentiment.p_pos)\n",
    "df_bitcoin['sentiment_naive_neg'] = df_bitcoin['tweet'].apply(lambda tweet: TextBlob(tweet, analyzer=NaiveBayesAnalyzer()).sentiment.p_neg)"
   ]
  },
  {
   "cell_type": "code",
   "execution_count": 38,
   "id": "e3355eeb-d147-4681-8128-2c5b37a57d6d",
   "metadata": {},
   "outputs": [
    {
     "data": {
      "text/html": [
       "<div>\n",
       "<style scoped>\n",
       "    .dataframe tbody tr th:only-of-type {\n",
       "        vertical-align: middle;\n",
       "    }\n",
       "\n",
       "    .dataframe tbody tr th {\n",
       "        vertical-align: top;\n",
       "    }\n",
       "\n",
       "    .dataframe thead th {\n",
       "        text-align: right;\n",
       "    }\n",
       "</style>\n",
       "<table border=\"1\" class=\"dataframe\">\n",
       "  <thead>\n",
       "    <tr style=\"text-align: right;\">\n",
       "      <th></th>\n",
       "      <th>id</th>\n",
       "      <th>user_id</th>\n",
       "      <th>username</th>\n",
       "      <th>tweet</th>\n",
       "      <th>language</th>\n",
       "      <th>likes_count</th>\n",
       "      <th>Datetime</th>\n",
       "      <th>polarity_score</th>\n",
       "      <th>subjectivity_score</th>\n",
       "      <th>sentiment_score</th>\n",
       "    </tr>\n",
       "  </thead>\n",
       "  <tbody>\n",
       "    <tr>\n",
       "      <th>724813</th>\n",
       "      <td>418181736615649280</td>\n",
       "      <td>18802551</td>\n",
       "      <td>stephantual</td>\n",
       "      <td>Told you 2014 was going to be all about Bitcoi...</td>\n",
       "      <td>en</td>\n",
       "      <td>0</td>\n",
       "      <td>2014-01-01 01:47:50</td>\n",
       "      <td>0.000000</td>\n",
       "      <td>0.000000</td>\n",
       "      <td>0.0</td>\n",
       "    </tr>\n",
       "    <tr>\n",
       "      <th>724814</th>\n",
       "      <td>418179037245104128</td>\n",
       "      <td>1081</td>\n",
       "      <td>davemcclure</td>\n",
       "      <td>.@500Startups: \"The Year in GIFs: 2013 Hi-Tech...</td>\n",
       "      <td>en</td>\n",
       "      <td>5</td>\n",
       "      <td>2014-01-01 01:37:06</td>\n",
       "      <td>0.000000</td>\n",
       "      <td>0.000000</td>\n",
       "      <td>0.0</td>\n",
       "    </tr>\n",
       "    <tr>\n",
       "      <th>724815</th>\n",
       "      <td>418175394718965760</td>\n",
       "      <td>125304737</td>\n",
       "      <td>blockchain</td>\n",
       "      <td>Our CEO Nic Cary was on Let's Talk Bitcoin!   ...</td>\n",
       "      <td>en</td>\n",
       "      <td>8</td>\n",
       "      <td>2014-01-01 01:22:38</td>\n",
       "      <td>0.500000</td>\n",
       "      <td>1.000000</td>\n",
       "      <td>1.0</td>\n",
       "    </tr>\n",
       "    <tr>\n",
       "      <th>724816</th>\n",
       "      <td>418174596546703360</td>\n",
       "      <td>22963273</td>\n",
       "      <td>justincaffier</td>\n",
       "      <td>New Years #Resolutions - HEALTH:  Quit using \"...</td>\n",
       "      <td>en</td>\n",
       "      <td>2</td>\n",
       "      <td>2014-01-01 01:19:27</td>\n",
       "      <td>0.043182</td>\n",
       "      <td>0.252273</td>\n",
       "      <td>1.0</td>\n",
       "    </tr>\n",
       "    <tr>\n",
       "      <th>724817</th>\n",
       "      <td>418172972092760064</td>\n",
       "      <td>16354208</td>\n",
       "      <td>maxberley</td>\n",
       "      <td>Bitcoin Is a High-Tech Dinosaur Soon to Be Ext...</td>\n",
       "      <td>en</td>\n",
       "      <td>0</td>\n",
       "      <td>2014-01-01 01:13:00</td>\n",
       "      <td>-0.400000</td>\n",
       "      <td>0.600000</td>\n",
       "      <td>-1.0</td>\n",
       "    </tr>\n",
       "  </tbody>\n",
       "</table>\n",
       "</div>"
      ],
      "text/plain": [
       "                        id    user_id       username  \\\n",
       "724813  418181736615649280   18802551    stephantual   \n",
       "724814  418179037245104128       1081    davemcclure   \n",
       "724815  418175394718965760  125304737     blockchain   \n",
       "724816  418174596546703360   22963273  justincaffier   \n",
       "724817  418172972092760064   16354208      maxberley   \n",
       "\n",
       "                                                    tweet language  \\\n",
       "724813  Told you 2014 was going to be all about Bitcoi...       en   \n",
       "724814  .@500Startups: \"The Year in GIFs: 2013 Hi-Tech...       en   \n",
       "724815  Our CEO Nic Cary was on Let's Talk Bitcoin!   ...       en   \n",
       "724816  New Years #Resolutions - HEALTH:  Quit using \"...       en   \n",
       "724817  Bitcoin Is a High-Tech Dinosaur Soon to Be Ext...       en   \n",
       "\n",
       "        likes_count            Datetime  polarity_score  subjectivity_score  \\\n",
       "724813            0 2014-01-01 01:47:50        0.000000            0.000000   \n",
       "724814            5 2014-01-01 01:37:06        0.000000            0.000000   \n",
       "724815            8 2014-01-01 01:22:38        0.500000            1.000000   \n",
       "724816            2 2014-01-01 01:19:27        0.043182            0.252273   \n",
       "724817            0 2014-01-01 01:13:00       -0.400000            0.600000   \n",
       "\n",
       "        sentiment_score  \n",
       "724813              0.0  \n",
       "724814              0.0  \n",
       "724815              1.0  \n",
       "724816              1.0  \n",
       "724817             -1.0  "
      ]
     },
     "execution_count": 38,
     "metadata": {},
     "output_type": "execute_result"
    }
   ],
   "source": [
    "df_bitcoin.tail()"
   ]
  },
  {
   "cell_type": "code",
   "execution_count": 39,
   "id": "5b78c51f-e11f-41a0-ad82-b118213e7db5",
   "metadata": {},
   "outputs": [
    {
     "name": "stdout",
     "output_type": "stream",
     "text": [
      "<class 'pandas.core.frame.DataFrame'>\n",
      "RangeIndex: 724818 entries, 0 to 724817\n",
      "Data columns (total 10 columns):\n",
      " #   Column              Non-Null Count   Dtype         \n",
      "---  ------              --------------   -----         \n",
      " 0   id                  724818 non-null  int64         \n",
      " 1   user_id             724818 non-null  int64         \n",
      " 2   username            724817 non-null  object        \n",
      " 3   tweet               724818 non-null  object        \n",
      " 4   language            724818 non-null  object        \n",
      " 5   likes_count         724818 non-null  int64         \n",
      " 6   Datetime            724818 non-null  datetime64[ns]\n",
      " 7   polarity_score      724818 non-null  float64       \n",
      " 8   subjectivity_score  724818 non-null  float64       \n",
      " 9   sentiment_score     724818 non-null  float64       \n",
      "dtypes: datetime64[ns](1), float64(3), int64(3), object(3)\n",
      "memory usage: 55.3+ MB\n"
     ]
    }
   ],
   "source": [
    "df_bitcoin.info()"
   ]
  },
  {
   "cell_type": "code",
   "execution_count": 40,
   "id": "aa65ae3d-be08-4293-b9e9-4206c72b64eb",
   "metadata": {},
   "outputs": [
    {
     "data": {
      "text/plain": [
       "id                    0\n",
       "user_id               0\n",
       "username              1\n",
       "tweet                 0\n",
       "language              0\n",
       "likes_count           0\n",
       "Datetime              0\n",
       "polarity_score        0\n",
       "subjectivity_score    0\n",
       "sentiment_score       0\n",
       "dtype: int64"
      ]
     },
     "execution_count": 40,
     "metadata": {},
     "output_type": "execute_result"
    }
   ],
   "source": [
    "df_bitcoin.isna().sum()"
   ]
  },
  {
   "cell_type": "markdown",
   "id": "e0c53d43-658a-44fa-ad1e-e727d1eb55bb",
   "metadata": {},
   "source": [
    "### Clean the Data and prepare for merge"
   ]
  },
  {
   "cell_type": "markdown",
   "id": "3f93e279-f61b-4906-9d99-174cd2ab7260",
   "metadata": {},
   "source": [
    "#### Transforming to Daily Scores, using mean"
   ]
  },
  {
   "cell_type": "code",
   "execution_count": 41,
   "id": "9da2e518-284f-44a0-9fb4-4cbc60fd4630",
   "metadata": {},
   "outputs": [],
   "source": [
    "df_bitcoin_daily = df_bitcoin.loc[:, ['Datetime', 'polarity_score']]"
   ]
  },
  {
   "cell_type": "code",
   "execution_count": 42,
   "id": "48dd1876-2bfd-4764-875a-e7b9e8416625",
   "metadata": {},
   "outputs": [],
   "source": [
    "df_bitcoin_daily['Date'] = pd.to_datetime(df_bitcoin_daily['Datetime']).dt.date"
   ]
  },
  {
   "cell_type": "code",
   "execution_count": 43,
   "id": "f0255b49-7905-40e6-aab5-d81b41961ec9",
   "metadata": {},
   "outputs": [],
   "source": [
    "df_bitcoin_daily = df_bitcoin_daily.groupby('Date').agg({'polarity_score': 'mean'})"
   ]
  },
  {
   "cell_type": "code",
   "execution_count": 44,
   "id": "e27eebd6-e1d8-421c-b299-39fd07a6b357",
   "metadata": {},
   "outputs": [],
   "source": [
    "# Recode to 1-0-(-1)\n",
    "df_bitcoin_daily['sentiment_score'] = df_bitcoin_daily['polarity_score'].apply(lambda col: col_encode(col))"
   ]
  },
  {
   "cell_type": "code",
   "execution_count": 45,
   "id": "59a5c8b3-cb73-4211-95f1-7ca12d5db36e",
   "metadata": {},
   "outputs": [
    {
     "data": {
      "text/plain": [
       " 1.0    2715\n",
       "-1.0      13\n",
       "Name: sentiment_score, dtype: int64"
      ]
     },
     "execution_count": 45,
     "metadata": {},
     "output_type": "execute_result"
    }
   ],
   "source": [
    "df_bitcoin_daily['sentiment_score'].value_counts()"
   ]
  },
  {
   "cell_type": "code",
   "execution_count": 46,
   "id": "f98bf5db-c461-4f40-8d22-942ace264acd",
   "metadata": {},
   "outputs": [],
   "source": [
    "df_bitcoin_daily.reset_index(inplace=True)"
   ]
  },
  {
   "cell_type": "markdown",
   "id": "524494cf-1285-48bb-9a70-8f7493189051",
   "metadata": {},
   "source": [
    "#### Transforming to Daily Scores, using mode"
   ]
  },
  {
   "cell_type": "code",
   "execution_count": 47,
   "id": "f47421c4-9aa6-44bd-b6cf-57cf9f47e91e",
   "metadata": {},
   "outputs": [],
   "source": [
    "df_bitcoin_daily_mode = df_bitcoin.loc[:, ['Datetime', 'polarity_score']]"
   ]
  },
  {
   "cell_type": "code",
   "execution_count": 48,
   "id": "42f32f90-3267-4495-af07-dbffab2185aa",
   "metadata": {},
   "outputs": [],
   "source": [
    "df_bitcoin_daily_mode['Date'] = pd.to_datetime(df_bitcoin_daily_mode['Datetime']).dt.date"
   ]
  },
  {
   "cell_type": "code",
   "execution_count": 49,
   "id": "3f697564-4077-4bb4-8b2e-5bee7506607c",
   "metadata": {},
   "outputs": [],
   "source": [
    "df_bitcoin_daily_mode = pd.DataFrame(df_bitcoin_daily_mode.groupby('Date')['polarity_score'].agg(pd.Series.mode))"
   ]
  },
  {
   "cell_type": "code",
   "execution_count": 50,
   "id": "5075bd45-b43e-4a04-b38e-78e19c0dd84f",
   "metadata": {},
   "outputs": [],
   "source": [
    "df_bitcoin_daily_mode = df_bitcoin_daily_mode.explode('polarity_score')"
   ]
  },
  {
   "cell_type": "code",
   "execution_count": 51,
   "id": "502b7bb9-7bea-49b5-9bb7-b45ac1bcc087",
   "metadata": {},
   "outputs": [],
   "source": [
    "# Encoding to 1-0-(-1)\n",
    "df_bitcoin_daily_mode['sentiment_score'] = df_bitcoin_daily_mode['polarity_score'].apply(lambda col: col_encode(col))"
   ]
  },
  {
   "cell_type": "code",
   "execution_count": 52,
   "id": "7b82cc0d-edfb-4b72-b054-f123e2e4b0bb",
   "metadata": {},
   "outputs": [
    {
     "data": {
      "text/plain": [
       "0.0    2727\n",
       "1.0       1\n",
       "Name: sentiment_score, dtype: int64"
      ]
     },
     "execution_count": 52,
     "metadata": {},
     "output_type": "execute_result"
    }
   ],
   "source": [
    "df_bitcoin_daily_mode['sentiment_score'].value_counts()"
   ]
  },
  {
   "cell_type": "markdown",
   "id": "1fd87c5f-2472-4867-8544-9a6b28e2fe5c",
   "metadata": {},
   "source": [
    "### Save to file & check"
   ]
  },
  {
   "cell_type": "code",
   "execution_count": 53,
   "id": "7787badb-02b9-46d9-87a9-4172b7fe54d4",
   "metadata": {},
   "outputs": [],
   "source": [
    "df_bitcoin_daily.to_csv(ext_data_path+'bitcoin_tweet_sentiment.csv', index=False)"
   ]
  },
  {
   "cell_type": "code",
   "execution_count": 54,
   "id": "fb2179cc-6885-486c-8c17-855803921088",
   "metadata": {},
   "outputs": [],
   "source": [
    "# Load back & check\n",
    "df_bitcoin_check = pd.read_csv(ext_data_path+'bitcoin_tweet_sentiment.csv')"
   ]
  },
  {
   "cell_type": "code",
   "execution_count": 55,
   "id": "e2240b4c-7a2c-4460-a6f8-69cfde3bdf85",
   "metadata": {},
   "outputs": [
    {
     "data": {
      "text/html": [
       "<div>\n",
       "<style scoped>\n",
       "    .dataframe tbody tr th:only-of-type {\n",
       "        vertical-align: middle;\n",
       "    }\n",
       "\n",
       "    .dataframe tbody tr th {\n",
       "        vertical-align: top;\n",
       "    }\n",
       "\n",
       "    .dataframe thead th {\n",
       "        text-align: right;\n",
       "    }\n",
       "</style>\n",
       "<table border=\"1\" class=\"dataframe\">\n",
       "  <thead>\n",
       "    <tr style=\"text-align: right;\">\n",
       "      <th></th>\n",
       "      <th>Date</th>\n",
       "      <th>polarity_score</th>\n",
       "      <th>sentiment_score</th>\n",
       "    </tr>\n",
       "  </thead>\n",
       "  <tbody>\n",
       "    <tr>\n",
       "      <th>0</th>\n",
       "      <td>2014-01-01</td>\n",
       "      <td>0.120676</td>\n",
       "      <td>1.0</td>\n",
       "    </tr>\n",
       "    <tr>\n",
       "      <th>1</th>\n",
       "      <td>2014-01-02</td>\n",
       "      <td>0.096087</td>\n",
       "      <td>1.0</td>\n",
       "    </tr>\n",
       "    <tr>\n",
       "      <th>2</th>\n",
       "      <td>2014-01-03</td>\n",
       "      <td>0.103907</td>\n",
       "      <td>1.0</td>\n",
       "    </tr>\n",
       "    <tr>\n",
       "      <th>3</th>\n",
       "      <td>2014-01-04</td>\n",
       "      <td>0.103798</td>\n",
       "      <td>1.0</td>\n",
       "    </tr>\n",
       "    <tr>\n",
       "      <th>4</th>\n",
       "      <td>2014-01-05</td>\n",
       "      <td>0.111918</td>\n",
       "      <td>1.0</td>\n",
       "    </tr>\n",
       "  </tbody>\n",
       "</table>\n",
       "</div>"
      ],
      "text/plain": [
       "         Date  polarity_score  sentiment_score\n",
       "0  2014-01-01        0.120676              1.0\n",
       "1  2014-01-02        0.096087              1.0\n",
       "2  2014-01-03        0.103907              1.0\n",
       "3  2014-01-04        0.103798              1.0\n",
       "4  2014-01-05        0.111918              1.0"
      ]
     },
     "execution_count": 55,
     "metadata": {},
     "output_type": "execute_result"
    }
   ],
   "source": [
    "df_bitcoin_check.head()"
   ]
  },
  {
   "cell_type": "code",
   "execution_count": 56,
   "id": "f6138302-5b1c-4b4b-bdec-b8b52826c022",
   "metadata": {},
   "outputs": [
    {
     "data": {
      "text/plain": [
       " 1.0    2715\n",
       "-1.0      13\n",
       "Name: sentiment_score, dtype: int64"
      ]
     },
     "execution_count": 56,
     "metadata": {},
     "output_type": "execute_result"
    }
   ],
   "source": [
    "df_bitcoin_check['sentiment_score'].value_counts()"
   ]
  },
  {
   "cell_type": "code",
   "execution_count": null,
   "id": "c2400964-2878-420e-baff-bb8c0b55742f",
   "metadata": {},
   "outputs": [],
   "source": []
  }
 ],
 "metadata": {
  "kernelspec": {
   "display_name": "Python 3",
   "language": "python",
   "name": "python3"
  },
  "language_info": {
   "codemirror_mode": {
    "name": "ipython",
    "version": 3
   },
   "file_extension": ".py",
   "mimetype": "text/x-python",
   "name": "python",
   "nbconvert_exporter": "python",
   "pygments_lexer": "ipython3",
   "version": "3.8.8"
  }
 },
 "nbformat": 4,
 "nbformat_minor": 5
}
